{
 "cells": [
  {
   "cell_type": "markdown",
   "metadata": {},
   "source": [
    "## NLP Workspace"
   ]
  },
  {
   "cell_type": "code",
   "execution_count": 2,
   "metadata": {},
   "outputs": [],
   "source": [
    "import numpy as np\n",
    "import pandas as pd\n",
    "import gensim"
   ]
  },
  {
   "cell_type": "code",
   "execution_count": 5,
   "metadata": {},
   "outputs": [],
   "source": [
    "train = pd.read_csv('train.tsv', sep='\\t')\n",
    "test = pd.read_csv('test.tsv' , sep='\\t')"
   ]
  },
  {
   "cell_type": "markdown",
   "metadata": {},
   "source": [
    "#### Count Vectorizer / Bag of Words"
   ]
  },
  {
   "cell_type": "code",
   "execution_count": 6,
   "metadata": {},
   "outputs": [
    {
     "name": "stdout",
     "output_type": "stream",
     "text": [
      "{'10': 0, '100': 1, '27': 2, '36c': 3, '38': 4, '85': 5, 'about': 6, 'all': 7, 'and': 8, 'are': 9, 'attachments': 10, 'authentic': 11, 'be': 12, 'bit': 13, 'both': 14, 'box': 15, 'bra': 16, 'bras': 17, 'bundles': 18, 'but': 19, 'can': 20, 'candy': 21, 'capris': 22, 'closet': 23, 'color': 24, 'condition': 25, 'cut': 26, 'cute': 27, 'deposit': 28, 'description': 29, 'do': 30, 'don': 31, 'either': 32, 'faded': 33, 'for': 34, 'gentle': 35, 'get': 36, 'gold': 37, 'good': 38, 'green': 39, 'have': 40, 'in': 41, 'is': 42, 'it': 43, 'jean': 44, 'just': 45, 'keychain': 46, 'lasts': 47, 'left': 48, 'leg': 49, 'lighting': 50, 'like': 51, 'limited': 52, 'little': 53, 'look': 54, 'looking': 55, 'make': 56, 'me': 57, 'message': 58, 'miss': 59, 'multi': 60, 'my': 61, 'navy': 62, 'new': 63, 'no': 64, 'not': 65, 'of': 66, 'old': 67, 'once': 68, 'one': 69, 'only': 70, 'out': 71, 'pair': 72, 'pictures': 73, 'pink': 74, 'product': 75, 'really': 76, 'rubber': 77, 'sexy': 78, 'shoe': 79, 'silicone': 80, 'size': 81, 'soft': 82, 'straight': 83, 'supply': 84, 'tags': 85, 'thank': 86, 'the': 87, 'them': 88, 'these': 89, 'they': 90, 'thin': 91, 'thing': 92, 'tpu': 93, 'ultra': 94, 'used': 95, 'very': 96, 'vs': 97, 'way': 98, 'while': 99, 'with': 100, 'worn': 101, 'yeezy': 102, 'yet': 103, 'you': 104}\n"
     ]
    }
   ],
   "source": [
    "## Count Vectorizer (Bag of Words method)\n",
    "\n",
    "from sklearn.feature_extraction.text import CountVectorizer\n",
    "rows_10 = train.iloc[1:11]\n",
    "text = rows_10['item_description'] \n",
    "vectorizer = CountVectorizer()\n",
    "vectorizer.fit(text)       ## Building the vocabulary of rows 1-10 (item_description columns)\n",
    "encoded_dict = {k: v for k, v in sorted(vectorizer.vocabulary_.items(), key=lambda item: item[1])}  ##Sorting by values\n",
    "print(encoded_dict)"
   ]
  },
  {
   "cell_type": "code",
   "execution_count": 13,
   "metadata": {},
   "outputs": [
    {
     "name": "stdout",
     "output_type": "stream",
     "text": [
      "[[0 0 0 ... 0 0 0]\n",
      " [0 0 0 ... 0 0 0]\n",
      " [0 0 0 ... 0 0 0]\n",
      " ...\n",
      " [0 0 0 ... 0 1 0]\n",
      " [1 1 0 ... 0 0 0]\n",
      " [0 0 1 ... 0 0 0]]\n"
     ]
    }
   ],
   "source": [
    "vector = vectorizer.transform(text)     ## Encoding the text (rows 1:10)\n",
    "print(vector.toarray())     ## Encoded vector"
   ]
  },
  {
   "cell_type": "markdown",
   "metadata": {},
   "source": [
    "#### TF-IDF method"
   ]
  },
  {
   "cell_type": "code",
   "execution_count": 14,
   "metadata": {},
   "outputs": [
    {
     "name": "stdout",
     "output_type": "stream",
     "text": [
      "{'10': 0, '100': 1, '27': 2, '36c': 3, '38': 4, '85': 5, 'about': 6, 'all': 7, 'and': 8, 'are': 9, 'attachments': 10, 'authentic': 11, 'be': 12, 'bit': 13, 'both': 14, 'box': 15, 'bra': 16, 'bras': 17, 'bundles': 18, 'but': 19, 'can': 20, 'candy': 21, 'capris': 22, 'closet': 23, 'color': 24, 'condition': 25, 'cut': 26, 'cute': 27, 'deposit': 28, 'description': 29, 'do': 30, 'don': 31, 'either': 32, 'faded': 33, 'for': 34, 'gentle': 35, 'get': 36, 'gold': 37, 'good': 38, 'green': 39, 'have': 40, 'in': 41, 'is': 42, 'it': 43, 'jean': 44, 'just': 45, 'keychain': 46, 'lasts': 47, 'left': 48, 'leg': 49, 'lighting': 50, 'like': 51, 'limited': 52, 'little': 53, 'look': 54, 'looking': 55, 'make': 56, 'me': 57, 'message': 58, 'miss': 59, 'multi': 60, 'my': 61, 'navy': 62, 'new': 63, 'no': 64, 'not': 65, 'of': 66, 'old': 67, 'once': 68, 'one': 69, 'only': 70, 'out': 71, 'pair': 72, 'pictures': 73, 'pink': 74, 'product': 75, 'really': 76, 'rubber': 77, 'sexy': 78, 'shoe': 79, 'silicone': 80, 'size': 81, 'soft': 82, 'straight': 83, 'supply': 84, 'tags': 85, 'thank': 86, 'the': 87, 'them': 88, 'these': 89, 'they': 90, 'thin': 91, 'thing': 92, 'tpu': 93, 'ultra': 94, 'used': 95, 'very': 96, 'vs': 97, 'way': 98, 'while': 99, 'with': 100, 'worn': 101, 'yeezy': 102, 'yet': 103, 'you': 104}\n"
     ]
    }
   ],
   "source": [
    "## Applying TF-IDF for first 10 rows of item_description column\n",
    "from sklearn.feature_extraction.text import TfidfVectorizer\n",
    "vectorizer_TFIDF = TfidfVectorizer()\n",
    "vectorizer_TFIDF.fit(text)     ## Building vocabulary by TF-IDF\n",
    "encoded_dict2 = {k: v for k, v in sorted(vectorizer_TFIDF.vocabulary_.items(), key=lambda item: item[1])} \n",
    "print(encoded_dict2)"
   ]
  },
  {
   "cell_type": "code",
   "execution_count": 15,
   "metadata": {},
   "outputs": [
    {
     "data": {
      "text/plain": [
       "array([[0.        , 0.        , 0.        , ..., 0.        , 0.        ,\n",
       "        0.        ],\n",
       "       [0.        , 0.        , 0.        , ..., 0.        , 0.        ,\n",
       "        0.        ],\n",
       "       [0.        , 0.        , 0.        , ..., 0.        , 0.        ,\n",
       "        0.        ],\n",
       "       ...,\n",
       "       [0.        , 0.        , 0.        , ..., 0.        , 0.57735027,\n",
       "        0.        ],\n",
       "       [0.28816633, 0.28816633, 0.        , ..., 0.        , 0.        ,\n",
       "        0.        ],\n",
       "       [0.        , 0.        , 0.22711774, ..., 0.        , 0.        ,\n",
       "        0.        ]])"
      ]
     },
     "execution_count": 15,
     "metadata": {},
     "output_type": "execute_result"
    }
   ],
   "source": [
    "#print(vectorizer_TFIDF.idf_)\n",
    "vector_tfidf = vectorizer_TFIDF.transform(text)    ## Encoding the text\n",
    "vector_tfidf.toarray()                             ## Array of TF-IDF scores of words"
   ]
  },
  {
   "cell_type": "markdown",
   "metadata": {},
   "source": [
    "### Glove word embedding"
   ]
  },
  {
   "cell_type": "code",
   "execution_count": 27,
   "metadata": {},
   "outputs": [
    {
     "name": "stdout",
     "output_type": "stream",
     "text": [
      "This is the vocabulary on which the model is trained: \n",
      " ['Color', 'is', 'gold', 'deposit,', 'about', '85%', 'of', 'product', 'left', 'New', 'Ultra', 'thin', 'Candy', 'TPU', 'Silicone', 'Rubber', 'Soft', 'VS', 'sexy', 'little', 'thing', 'multi', 'way', 'bras', 'both', 'size', '36C.', 'Both', 'gentle', 'used.', 'I', 'do', 'have', 'all', 'the', 'attachments', 'for', 'the', 'pink', 'bras', 'but', 'not', 'the', 'green', 'bra', 'but', 'they', 'can', 'be', 'used', 'for', 'either', 'one.', 'New', 'with', 'out', 'box!', 'New', 'with', 'tags', 'Size', '38', 'Lighting', 'in', 'pictures', 'make', 'them', 'look', 'faded', 'a', 'bit', 'but', 'they', 'are', 'not', 'faded...new', 'with', 'tags!!', 'Thank', 'you', 'for', 'looking', 'in', 'my', 'closet:)', 'Old', 'Navy', 'straight', 'leg', 'cut', 'Yeezy', 'shoe', 'keychain.', 'Get', 'it', 'while', 'it', 'lasts.', 'Supply', 'is', 'limited,', 'message', 'me', 'for', 'bundles.', 'No', 'description', 'yet', 'Used', '..', 'only', 'worn', 'once', '...', 'just', 'like', 'new', '!', '100%', 'authentic!!', 'Size-10.5', \"Don't\", 'miss', 'out', '!!', 'Pair', 'of', 'Miss', 'Me', 'Jean', 'Capris', 'in', 'a', 'size', '27.', 'These', 'are', 'in', 'really', 'good', 'condition', 'and', 'are', 'very', 'cute!']\n"
     ]
    },
    {
     "name": "stderr",
     "output_type": "stream",
     "text": [
      "<ipython-input-27-158ee972f55a>:16: DeprecationWarning: Call to deprecated `__getitem__` (Method will be removed in 4.0.0, use self.wv.__getitem__() instead).\n",
      "  X = model[model.wv.vocab]\n"
     ]
    },
    {
     "ename": "IndexError",
     "evalue": "index 58 is out of bounds for axis 0 with size 58",
     "output_type": "error",
     "traceback": [
      "\u001b[1;31m---------------------------------------------------------------------------\u001b[0m",
      "\u001b[1;31mIndexError\u001b[0m                                Traceback (most recent call last)",
      "\u001b[1;32m<ipython-input-27-158ee972f55a>\u001b[0m in \u001b[0;36m<module>\u001b[1;34m\u001b[0m\n\u001b[0;32m     22\u001b[0m \u001b[1;31m#words = list(model.wv.vocab)\u001b[0m\u001b[1;33m\u001b[0m\u001b[1;33m\u001b[0m\u001b[1;33m\u001b[0m\u001b[0m\n\u001b[0;32m     23\u001b[0m \u001b[1;32mfor\u001b[0m \u001b[0mi\u001b[0m\u001b[1;33m,\u001b[0m \u001b[0mword\u001b[0m \u001b[1;32min\u001b[0m \u001b[0menumerate\u001b[0m\u001b[1;33m(\u001b[0m\u001b[0mlit\u001b[0m\u001b[1;33m)\u001b[0m\u001b[1;33m:\u001b[0m\u001b[1;33m\u001b[0m\u001b[1;33m\u001b[0m\u001b[0m\n\u001b[1;32m---> 24\u001b[1;33m     \u001b[0mplt\u001b[0m\u001b[1;33m.\u001b[0m\u001b[0mannotate\u001b[0m\u001b[1;33m(\u001b[0m\u001b[0mword\u001b[0m\u001b[1;33m,\u001b[0m \u001b[0mxy\u001b[0m\u001b[1;33m=\u001b[0m\u001b[1;33m(\u001b[0m\u001b[0mresult\u001b[0m\u001b[1;33m[\u001b[0m\u001b[0mi\u001b[0m\u001b[1;33m,\u001b[0m \u001b[1;36m0\u001b[0m\u001b[1;33m]\u001b[0m\u001b[1;33m,\u001b[0m \u001b[0mresult\u001b[0m\u001b[1;33m[\u001b[0m\u001b[0mi\u001b[0m\u001b[1;33m,\u001b[0m \u001b[1;36m1\u001b[0m\u001b[1;33m]\u001b[0m\u001b[1;33m)\u001b[0m\u001b[1;33m)\u001b[0m\u001b[1;33m\u001b[0m\u001b[1;33m\u001b[0m\u001b[0m\n\u001b[0m\u001b[0;32m     25\u001b[0m \u001b[0mplt\u001b[0m\u001b[1;33m.\u001b[0m\u001b[0mshow\u001b[0m\u001b[1;33m(\u001b[0m\u001b[1;33m)\u001b[0m\u001b[1;33m\u001b[0m\u001b[1;33m\u001b[0m\u001b[0m\n",
      "\u001b[1;31mIndexError\u001b[0m: index 58 is out of bounds for axis 0 with size 58"
     ]
    },
    {
     "data": {
      "image/png": "[encoded data removed]",
      "text/plain": [
       "<Figure size 432x288 with 1 Axes>"
      ]
     },
     "metadata": {
      "needs_background": "light"
     },
     "output_type": "display_data"
    }
   ],
   "source": [
    "from gensim.models import Word2Vec\n",
    "from sklearn.decomposition import PCA\n",
    "import matplotlib.pyplot as plt\n",
    "\n",
    "li = text.tolist()\n",
    "lit = []\n",
    "for i in range(10):\n",
    "    lit = lit + li[i].split()\n",
    "    \n",
    "model = Word2Vec(lit, min_count=1)\n",
    "\n",
    "words = list(model.wv.vocab)\n",
    "print(\"This is the vocabulary on which the model is trained: \\n\", lit)\n",
    "\n",
    "# Fit a 2d PCA model to the vectors\n",
    "X = model[model.wv.vocab]\n",
    "pca = PCA(n_components=2)\n",
    "result = pca.fit_transform(X)\n",
    "\n",
    "# Create a scatter plot of the projection\n",
    "plt.scatter(result[:, 0], result[:, 1])\n",
    "#words = list(model.wv.vocab)\n",
    "for i, word in enumerate(lit):\n",
    "    plt.annotate(word, xy=(result[i, 0], result[i, 1]))\n",
    "plt.show()\n"
   ]
  },
  {
   "cell_type": "code",
   "execution_count": null,
   "metadata": {},
   "outputs": [],
   "source": []
  }
 ],
 "metadata": {
  "kernelspec": {
   "display_name": "Python 3",
   "language": "python",
   "name": "python3"
  },
  "language_info": {
   "codemirror_mode": {
    "name": "ipython",
    "version": 3
   },
   "file_extension": ".py",
   "mimetype": "text/x-python",
   "name": "python",
   "nbconvert_exporter": "python",
   "pygments_lexer": "ipython3",
   "version": "3.8.3"
  }
 },
 "nbformat": 4,
 "nbformat_minor": 4
}
