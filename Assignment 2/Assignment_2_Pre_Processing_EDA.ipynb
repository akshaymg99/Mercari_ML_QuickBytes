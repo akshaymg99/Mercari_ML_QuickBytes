{
 "cells": [
  {
   "cell_type": "code",
   "execution_count": 8,
   "metadata": {},
   "outputs": [],
   "source": [
    "import numpy as np\n",
    "import pandas as pd\n",
    "import seaborn as sns\n",
    "import matplotlib.pyplot as plt"
   ]
  },
  {
   "cell_type": "code",
   "execution_count": 3,
   "metadata": {},
   "outputs": [
    {
     "name": "stderr",
     "output_type": "stream",
     "text": [
      "C:\\ProgramData\\Anaconda3\\lib\\site-packages\\IPython\\core\\interactiveshell.py:3071: DtypeWarning: Columns (28) have mixed types.Specify dtype option on import or set low_memory=False.\n",
      "  has_raised = await self.run_ast_nodes(code_ast.body, cell_name,\n"
     ]
    }
   ],
   "source": [
    "train = pd.read_csv('train.csv')\n",
    "test = pd.read_csv('test.csv')"
   ]
  },
  {
   "cell_type": "code",
   "execution_count": 82,
   "metadata": {},
   "outputs": [
    {
     "name": "stdout",
     "output_type": "stream",
     "text": [
      "(567730, 83)\n",
      "(243313, 82)\n"
     ]
    }
   ],
   "source": [
    "print(train.shape)\n",
    "print(test.shape)"
   ]
  },
  {
   "cell_type": "markdown",
   "metadata": {},
   "source": [
    "Training dataset contains 567730 rows(records) and 83 columns(features)"
   ]
  },
  {
   "cell_type": "code",
   "execution_count": 7,
   "metadata": {
    "scrolled": true
   },
   "outputs": [
    {
     "data": {
      "text/plain": [
       "0    482571\n",
       "1     85159\n",
       "Name: HasDetections, dtype: int64"
      ]
     },
     "execution_count": 7,
     "metadata": {},
     "output_type": "execute_result"
    }
   ],
   "source": [
    "train['HasDetections'].value_counts()`"
   ]
  },
  {
   "cell_type": "markdown",
   "metadata": {},
   "source": [
    "#### This is a binary classification problem. But this is an imbalanced dataset based on count of target 'HasDetections'. There are more no of values of '0 class' than '1 class' . approx -> (1:6 ratio)"
   ]
  },
  {
   "cell_type": "code",
   "execution_count": 6,
   "metadata": {},
   "outputs": [
    {
     "name": "stdout",
     "output_type": "stream",
     "text": [
      "<class 'pandas.core.frame.DataFrame'>\n",
      "RangeIndex: 567730 entries, 0 to 567729\n",
      "Data columns (total 83 columns):\n",
      " #   Column                                             Non-Null Count   Dtype  \n",
      "---  ------                                             --------------   -----  \n",
      " 0   MachineIdentifier                                  567730 non-null  object \n",
      " 1   ProductName                                        567730 non-null  object \n",
      " 2   EngineVersion                                      567730 non-null  object \n",
      " 3   AppVersion                                         567730 non-null  object \n",
      " 4   AvSigVersion                                       567730 non-null  object \n",
      " 5   IsBeta                                             567730 non-null  int64  \n",
      " 6   RtpStateBitfield                                   565573 non-null  float64\n",
      " 7   IsSxsPassiveMode                                   567730 non-null  int64  \n",
      " 8   DefaultBrowsersIdentifier                          29528 non-null   float64\n",
      " 9   AVProductStatesIdentifier                          565079 non-null  float64\n",
      " 10  AVProductsInstalled                                565079 non-null  float64\n",
      " 11  AVProductsEnabled                                  565079 non-null  float64\n",
      " 12  HasTpm                                             567730 non-null  int64  \n",
      " 13  CountryIdentifier                                  567730 non-null  int64  \n",
      " 14  CityIdentifier                                     546823 non-null  float64\n",
      " 15  OrganizationIdentifier                             391837 non-null  float64\n",
      " 16  GeoNameIdentifier                                  567712 non-null  float64\n",
      " 17  LocaleEnglishNameIdentifier                        567730 non-null  int64  \n",
      " 18  Platform                                           567730 non-null  object \n",
      " 19  Processor                                          567730 non-null  object \n",
      " 20  OsVer                                              567730 non-null  object \n",
      " 21  OsBuild                                            567730 non-null  int64  \n",
      " 22  OsSuite                                            567730 non-null  int64  \n",
      " 23  OsPlatformSubRelease                               567730 non-null  object \n",
      " 24  OsBuildLab                                         567729 non-null  object \n",
      " 25  SkuEdition                                         567730 non-null  object \n",
      " 26  IsProtected                                        565086 non-null  float64\n",
      " 27  AutoSampleOptIn                                    567730 non-null  int64  \n",
      " 28  PuaMode                                            106 non-null     object \n",
      " 29  SMode                                              529214 non-null  float64\n",
      " 30  IeVerIdentifier                                    564033 non-null  float64\n",
      " 31  SmartScreen                                        360354 non-null  object \n",
      " 32  Firewall                                           561948 non-null  float64\n",
      " 33  UacLuaenable                                       567062 non-null  float64\n",
      " 34  Census_MDC2FormFactor                              567730 non-null  object \n",
      " 35  Census_DeviceFamily                                567730 non-null  object \n",
      " 36  Census_OEMNameIdentifier                           561422 non-null  float64\n",
      " 37  Census_OEMModelIdentifier                          560994 non-null  float64\n",
      " 38  Census_ProcessorCoreCount                          565282 non-null  float64\n",
      " 39  Census_ProcessorManufacturerIdentifier             565282 non-null  float64\n",
      " 40  Census_ProcessorModelIdentifier                    565278 non-null  float64\n",
      " 41  Census_ProcessorClass                              2202 non-null    object \n",
      " 42  Census_PrimaryDiskTotalCapacity                    564554 non-null  float64\n",
      " 43  Census_PrimaryDiskTypeName                         566903 non-null  object \n",
      " 44  Census_SystemVolumeTotalCapacity                   564554 non-null  float64\n",
      " 45  Census_HasOpticalDiskDrive                         567730 non-null  int64  \n",
      " 46  Census_TotalPhysicalRAM                            562372 non-null  float64\n",
      " 47  Census_ChassisTypeName                             567690 non-null  object \n",
      " 48  Census_InternalPrimaryDiagonalDisplaySizeInInches  564796 non-null  float64\n",
      " 49  Census_InternalPrimaryDisplayResolutionHorizontal  564807 non-null  float64\n",
      " 50  Census_InternalPrimaryDisplayResolutionVertical    564807 non-null  float64\n",
      " 51  Census_PowerPlatformRoleName                       567725 non-null  object \n",
      " 52  Census_InternalBatteryType                         167732 non-null  object \n",
      " 53  Census_InternalBatteryNumberOfCharges              551698 non-null  float64\n",
      " 54  Census_OSVersion                                   567730 non-null  object \n",
      " 55  Census_OSArchitecture                              567730 non-null  object \n",
      " 56  Census_OSBranch                                    567730 non-null  object \n",
      " 57  Census_OSBuildNumber                               567730 non-null  int64  \n",
      " 58  Census_OSBuildRevision                             567730 non-null  int64  \n",
      " 59  Census_OSEdition                                   567730 non-null  object \n",
      " 60  Census_OSSkuName                                   567730 non-null  object \n",
      " 61  Census_OSInstallTypeName                           567730 non-null  object \n",
      " 62  Census_OSInstallLanguageIdentifier                 564019 non-null  float64\n",
      " 63  Census_OSUILocaleIdentifier                        567730 non-null  int64  \n",
      " 64  Census_OSWUAutoUpdateOptionsName                   567730 non-null  object \n",
      " 65  Census_IsPortableOperatingSystem                   567730 non-null  int64  \n",
      " 66  Census_GenuineStateName                            567730 non-null  object \n",
      " 67  Census_ActivationChannel                           567730 non-null  object \n",
      " 68  Census_IsFlightingInternal                         97893 non-null   float64\n",
      " 69  Census_IsFlightsDisabled                           557806 non-null  float64\n",
      " 70  Census_FlightRing                                  567730 non-null  object \n",
      " 71  Census_ThresholdOptIn                              209336 non-null  float64\n",
      " 72  Census_FirmwareManufacturerIdentifier              554809 non-null  float64\n",
      " 73  Census_FirmwareVersionIdentifier                   556441 non-null  float64\n",
      " 74  Census_IsSecureBootEnabled                         567730 non-null  int64  \n",
      " 75  Census_IsWIMBootEnabled                            209880 non-null  float64\n",
      " 76  Census_IsVirtualDevice                             566694 non-null  float64\n",
      " 77  Census_IsTouchEnabled                              567730 non-null  int64  \n",
      " 78  Census_IsPenCapable                                567730 non-null  int64  \n",
      " 79  Census_IsAlwaysOnAlwaysConnectedCapable            563347 non-null  float64\n",
      " 80  Wdft_IsGamer                                       548798 non-null  float64\n",
      " 81  Wdft_RegionIdentifier                              548798 non-null  float64\n",
      " 82  HasDetections                                      567730 non-null  int64  \n",
      "dtypes: float64(36), int64(17), object(30)\n",
      "memory usage: 359.5+ MB\n"
     ]
    }
   ],
   "source": [
    "## datatypes and no of missing values in each feature column\n",
    "train.info()"
   ]
  },
  {
   "cell_type": "markdown",
   "metadata": {},
   "source": [
    "Train dataset has 83 columns, among which \"HasDetections\" is target column. There are 30 columns with categorical data (non-numerical)"
   ]
  },
  {
   "cell_type": "markdown",
   "metadata": {},
   "source": [
    "#### Missing Values Handling"
   ]
  },
  {
   "cell_type": "markdown",
   "metadata": {},
   "source": [
    "About 44 features have missing values in them. we shall perform missing data analysis for each type of datatype seperately "
   ]
  },
  {
   "cell_type": "code",
   "execution_count": 72,
   "metadata": {},
   "outputs": [
    {
     "data": {
      "text/plain": [
       "PuaMode                         0.999813\n",
       "Census_ProcessorClass           0.996121\n",
       "Census_InternalBatteryType      0.704557\n",
       "SmartScreen                     0.365272\n",
       "Census_PrimaryDiskTypeName      0.001457\n",
       "Census_ChassisTypeName          0.000070\n",
       "Census_PowerPlatformRoleName    0.000009\n",
       "OsBuildLab                      0.000002\n",
       "SkuEdition                      0.000000\n",
       "Census_FlightRing               0.000000\n",
       "dtype: float64"
      ]
     },
     "execution_count": 72,
     "metadata": {},
     "output_type": "execute_result"
    }
   ],
   "source": [
    "## missing value counts of categorical(object) types\n",
    "a = train.dtypes[train.dtypes == 'object'].index\n",
    "(train[a].isna().sum()/train.shape[0]).sort_values(ascending=False).head(10)"
   ]
  },
  {
   "cell_type": "markdown",
   "metadata": {},
   "source": [
    "There are 8 columns of object dtype with missing values. \"PuaMode\" feature being with highest with almost 99% missing values."
   ]
  },
  {
   "cell_type": "code",
   "execution_count": 73,
   "metadata": {},
   "outputs": [
    {
     "data": {
      "text/plain": [
       "DefaultBrowsersIdentifier                            0.947989\n",
       "Census_IsFlightingInternal                           0.827571\n",
       "Census_ThresholdOptIn                                0.631275\n",
       "Census_IsWIMBootEnabled                              0.630317\n",
       "OrganizationIdentifier                               0.309818\n",
       "SMode                                                0.067842\n",
       "CityIdentifier                                       0.036826\n",
       "Wdft_IsGamer                                         0.033347\n",
       "Wdft_RegionIdentifier                                0.033347\n",
       "Census_InternalBatteryNumberOfCharges                0.028239\n",
       "Census_FirmwareManufacturerIdentifier                0.022759\n",
       "Census_FirmwareVersionIdentifier                     0.019884\n",
       "Census_IsFlightsDisabled                             0.017480\n",
       "Census_OEMModelIdentifier                            0.011865\n",
       "Census_OEMNameIdentifier                             0.011111\n",
       "Firewall                                             0.010184\n",
       "Census_TotalPhysicalRAM                              0.009438\n",
       "Census_IsAlwaysOnAlwaysConnectedCapable              0.007720\n",
       "Census_OSInstallLanguageIdentifier                   0.006537\n",
       "IeVerIdentifier                                      0.006512\n",
       "Census_SystemVolumeTotalCapacity                     0.005594\n",
       "Census_PrimaryDiskTotalCapacity                      0.005594\n",
       "Census_InternalPrimaryDiagonalDisplaySizeInInches    0.005168\n",
       "Census_InternalPrimaryDisplayResolutionHorizontal    0.005149\n",
       "Census_InternalPrimaryDisplayResolutionVertical      0.005149\n",
       "AVProductsEnabled                                    0.004669\n",
       "AVProductsInstalled                                  0.004669\n",
       "AVProductStatesIdentifier                            0.004669\n",
       "IsProtected                                          0.004657\n",
       "Census_ProcessorModelIdentifier                      0.004319\n",
       "Census_ProcessorCoreCount                            0.004312\n",
       "Census_ProcessorManufacturerIdentifier               0.004312\n",
       "RtpStateBitfield                                     0.003799\n",
       "Census_IsVirtualDevice                               0.001825\n",
       "UacLuaenable                                         0.001177\n",
       "GeoNameIdentifier                                    0.000032\n",
       "dtype: float64"
      ]
     },
     "execution_count": 73,
     "metadata": {},
     "output_type": "execute_result"
    }
   ],
   "source": [
    "## missing value counts of float types\n",
    "b = train.dtypes[train.dtypes == 'float'].index\n",
    "(train[b].isna().sum()/train.shape[0]).sort_values(ascending=False)"
   ]
  },
  {
   "cell_type": "markdown",
   "metadata": {},
   "source": [
    "There are 50 columns of float dtype having missing values. \"DefaultBrowsersIdentifier\" feature being with highest = 94.7% and \"GeoNameIdentifier\" with lowest -> 0.0032%"
   ]
  },
  {
   "cell_type": "code",
   "execution_count": 38,
   "metadata": {},
   "outputs": [
    {
     "data": {
      "text/plain": [
       "HasDetections        0\n",
       "AutoSampleOptIn      0\n",
       "IsSxsPassiveMode     0\n",
       "HasTpm               0\n",
       "CountryIdentifier    0\n",
       "dtype: int64"
      ]
     },
     "execution_count": 38,
     "metadata": {},
     "output_type": "execute_result"
    }
   ],
   "source": [
    "## missing value counts of int types\n",
    "c = train.dtypes[train.dtypes == 'int64'].index\n",
    "train[c].isna().sum().sort_values(ascending=False).head()"
   ]
  },
  {
   "cell_type": "markdown",
   "metadata": {},
   "source": [
    "As we can see, columns with int dtypes having no missing values. So we only have to deal with columns of object and float datatypes."
   ]
  },
  {
   "cell_type": "markdown",
   "metadata": {},
   "source": [
    "Two features \"PuaMode\", \"Census_ProcessorClass\" have about 99% missing values, meaning almost empty. It makes sense to drop these columns completely."
   ]
  },
  {
   "cell_type": "code",
   "execution_count": 84,
   "metadata": {},
   "outputs": [],
   "source": [
    "train.drop('PuaMode',inplace=True, axis=1)\n",
    "train.drop('Census_ProcessorClass',inplace=True, axis=1)\n",
    "test.drop('PuaMode', inplace=True, axis=1)\n",
    "test.drop('Census_ProcessorClass', inplace=True, axis=1)"
   ]
  },
  {
   "cell_type": "code",
   "execution_count": 85,
   "metadata": {},
   "outputs": [
    {
     "data": {
      "text/plain": [
       "lion        132394\n",
       "li-i         15971\n",
       "#            11383\n",
       "lip           3816\n",
       "liio          2154\n",
       "li p           464\n",
       "li             454\n",
       "nimh           329\n",
       "bq20           207\n",
       "real           177\n",
       "vbox           151\n",
       "pbac           108\n",
       "unkn            43\n",
       "lgi0            25\n",
       "lhp0            15\n",
       "4cel             9\n",
       "lipo             8\n",
       "ithi             4\n",
       "lipp             4\n",
       "virt             3\n",
       "batt             3\n",
       "pad0             3\n",
       "ots0             2\n",
       "#TAB#            1\n",
       "ca48             1\n",
       "8                1\n",
       "l\u0006&#TAB#         1\n",
       "li-p             1\n",
       "Name: Census_InternalBatteryType, dtype: int64"
      ]
     },
     "execution_count": 85,
     "metadata": {},
     "output_type": "execute_result"
    }
   ],
   "source": [
    "train[\"Census_InternalBatteryType\"].value_counts()"
   ]
  },
  {
   "cell_type": "markdown",
   "metadata": {},
   "source": [
    "Because of the presence of vague values in Battery_type_column, & for the sake of simplicity, lets club other than lion batteries into another value - 'non-lion' since most modern batteries are lithium lion based. This will also eventually fill the missing values."
   ]
  },
  {
   "cell_type": "code",
   "execution_count": 90,
   "metadata": {},
   "outputs": [],
   "source": [
    "## filling values with lion as 1 as others as 0, same change reflected in test dataset\n",
    "def filter_batteries(bat):\n",
    "    bat = str(bat)\n",
    "    if 'li' in bat:\n",
    "        return 1\n",
    "    else:\n",
    "        return 0\n",
    "\n",
    "train[\"Census_InternalBatteryType\"] = train[\"Census_InternalBatteryType\"].apply(filter_batteries)\n",
    "test[\"Census_InternalBatteryType\"] = test[\"Census_InternalBatteryType\"].apply(filter_batteries)"
   ]
  },
  {
   "cell_type": "code",
   "execution_count": 94,
   "metadata": {},
   "outputs": [
    {
     "data": {
      "text/plain": [
       "RequireAdmin    298936\n",
       "ExistsNotSet     37910\n",
       "Off              11932\n",
       "Warn              7676\n",
       "Prompt            2288\n",
       "Block             1432\n",
       "off                 75\n",
       "On                  52\n",
       "&#x02;              26\n",
       "&#x01;              15\n",
       "on                   9\n",
       "OFF                  2\n",
       "requireadmin         1\n",
       "Name: SmartScreen, dtype: int64"
      ]
     },
     "execution_count": 94,
     "metadata": {},
     "output_type": "execute_result"
    }
   ],
   "source": [
    "train['SmartScreen'].value_counts()"
   ]
  },
  {
   "cell_type": "markdown",
   "metadata": {},
   "source": [
    "Similar situation arises in Smart_Screen feature, but here the values are repeated in different form of words, so we need to clean whichever have special chars and convert similar words to single root form"
   ]
  },
  {
   "cell_type": "code",
   "execution_count": 95,
   "metadata": {},
   "outputs": [],
   "source": [
    "conversion_dict = {\n",
    "    'off': 'Off', '&#x02;': '2', '&#x01;': '1', 'on': 'On', 'requireadmin': 'RequireAdmin', 'OFF': 'Off', \n",
    "    'Promt': 'Prompt', 'requireAdmin': 'RequireAdmin', 'prompt': 'Prompt', 'warn': 'Warn', \n",
    "    '00000000': '0', '&#x03;': '3', np.nan: 'NoExist'\n",
    "}\n",
    "train.replace({'SmartScreen': conversion_dict}, inplace=True)\n",
    "test.replace({'SmartScreen': conversion_dict}, inplace=True)"
   ]
  },
  {
   "cell_type": "markdown",
   "metadata": {},
   "source": [
    "For features \"Smart_screen\", \"Disk_Type\", \"Chassis_Type\", \"PowerPlatformRole\", \"OSBuild_Lab\", we shall fill mode value for missing values in these. The reasoning is that people use computer parts that are most popular / or used by majority people."
   ]
  },
  {
   "cell_type": "code",
   "execution_count": 97,
   "metadata": {},
   "outputs": [],
   "source": [
    "for column in ['SmartScreen', 'Census_PrimaryDiskTypeName', 'Census_ChassisTypeName', 'Census_PowerPlatformRoleName', 'OsBuildLab']:\n",
    "    train[column].fillna(train[column].mode()[0], inplace=True)\n",
    "    test[column].fillna(test[column].mode()[0], inplace=True)"
   ]
  },
  {
   "cell_type": "markdown",
   "metadata": {},
   "source": [
    "We shall fill remaining columns of float dtype with mode values too for now to make it easier for EDA Analysis. Later we can change if required in Feature Engineering."
   ]
  },
  {
   "cell_type": "code",
   "execution_count": 103,
   "metadata": {},
   "outputs": [],
   "source": [
    "for feature in [\"DefaultBrowsersIdentifier\", \"Census_IsFlightingInternal\", \"Census_ThresholdOptIn\", \"Census_IsWIMBootEnabled\", \"OrganizationIdentifier\", \"SMode\", \"CityIdentifier\", \"Wdft_IsGamer\", \"Wdft_RegionIdentifier\", \"Census_InternalBatteryNumberOfCharges\", \"Census_FirmwareManufacturerIdentifier\", \"Census_FirmwareVersionIdentifier\", \"Census_IsFlightsDisabled\", \"Census_OEMModelIdentifier\", \"Census_OEMNameIdentifier\", \"Firewall\", \"Census_TotalPhysicalRAM\", \"Census_IsAlwaysOnAlwaysConnectedCapable\", \"Census_OSInstallLanguageIdentifier\", \"IeVerIdentifier\", \"Census_SystemVolumeTotalCapacity\", \"Census_PrimaryDiskTotalCapacity\", \"Census_InternalPrimaryDiagonalDisplaySizeInInches\", \"Census_InternalPrimaryDisplayResolutionHorizontal\", \"Census_InternalPrimaryDisplayResolutionVertical\", \"AVProductsEnabled\", \"AVProductsInstalled\", \"AVProductStatesIdentifier\", \"IsProtected\", \"Census_ProcessorModelIdentifier\", \"Census_ProcessorCoreCount\", \"Census_ProcessorManufacturerIdentifier\", \"RtpStateBitfield\", \"Census_IsVirtualDevice\", \"UacLuaenable\", \"GeoNameIdentifier\"]:\n",
    "    train[feature].fillna(train[feature].mode()[0], inplace=True)\n",
    "    test[feature].fillna(test[feature].mode()[0], inplace=True)"
   ]
  },
  {
   "cell_type": "markdown",
   "metadata": {},
   "source": [
    "### Skew Analysis"
   ]
  },
  {
   "cell_type": "markdown",
   "metadata": {},
   "source": [
    "Skew parameter of each feature column:"
   ]
  },
  {
   "cell_type": "code",
   "execution_count": 114,
   "metadata": {},
   "outputs": [
    {
     "data": {
      "text/html": [
       "<div>\n",
       "<style scoped>\n",
       "    .dataframe tbody tr th:only-of-type {\n",
       "        vertical-align: middle;\n",
       "    }\n",
       "\n",
       "    .dataframe tbody tr th {\n",
       "        vertical-align: top;\n",
       "    }\n",
       "\n",
       "    .dataframe thead th {\n",
       "        text-align: right;\n",
       "    }\n",
       "</style>\n",
       "<table border=\"1\" class=\"dataframe\">\n",
       "  <thead>\n",
       "    <tr style=\"text-align: right;\">\n",
       "      <th></th>\n",
       "      <th>column</th>\n",
       "      <th>skew</th>\n",
       "    </tr>\n",
       "  </thead>\n",
       "  <tbody>\n",
       "    <tr>\n",
       "      <th>73</th>\n",
       "      <td>Census_IsWIMBootEnabled</td>\n",
       "      <td>100.000000</td>\n",
       "    </tr>\n",
       "    <tr>\n",
       "      <th>66</th>\n",
       "      <td>Census_IsFlightingInternal</td>\n",
       "      <td>99.999824</td>\n",
       "    </tr>\n",
       "    <tr>\n",
       "      <th>5</th>\n",
       "      <td>IsBeta</td>\n",
       "      <td>99.999295</td>\n",
       "    </tr>\n",
       "    <tr>\n",
       "      <th>67</th>\n",
       "      <td>Census_IsFlightsDisabled</td>\n",
       "      <td>99.998239</td>\n",
       "    </tr>\n",
       "    <tr>\n",
       "      <th>27</th>\n",
       "      <td>AutoSampleOptIn</td>\n",
       "      <td>99.997182</td>\n",
       "    </tr>\n",
       "    <tr>\n",
       "      <th>69</th>\n",
       "      <td>Census_ThresholdOptIn</td>\n",
       "      <td>99.990488</td>\n",
       "    </tr>\n",
       "    <tr>\n",
       "      <th>63</th>\n",
       "      <td>Census_IsPortableOperatingSystem</td>\n",
       "      <td>99.953323</td>\n",
       "    </tr>\n",
       "    <tr>\n",
       "      <th>28</th>\n",
       "      <td>SMode</td>\n",
       "      <td>99.935885</td>\n",
       "    </tr>\n",
       "    <tr>\n",
       "      <th>34</th>\n",
       "      <td>Census_DeviceFamily</td>\n",
       "      <td>99.815053</td>\n",
       "    </tr>\n",
       "    <tr>\n",
       "      <th>32</th>\n",
       "      <td>UacLuaenable</td>\n",
       "      <td>99.402533</td>\n",
       "    </tr>\n",
       "    <tr>\n",
       "      <th>74</th>\n",
       "      <td>Census_IsVirtualDevice</td>\n",
       "      <td>98.996002</td>\n",
       "    </tr>\n",
       "    <tr>\n",
       "      <th>1</th>\n",
       "      <td>ProductName</td>\n",
       "      <td>98.920966</td>\n",
       "    </tr>\n",
       "    <tr>\n",
       "      <th>12</th>\n",
       "      <td>HasTpm</td>\n",
       "      <td>98.760678</td>\n",
       "    </tr>\n",
       "    <tr>\n",
       "      <th>7</th>\n",
       "      <td>IsSxsPassiveMode</td>\n",
       "      <td>97.933349</td>\n",
       "    </tr>\n",
       "    <tr>\n",
       "      <th>31</th>\n",
       "      <td>Firewall</td>\n",
       "      <td>97.830659</td>\n",
       "    </tr>\n",
       "    <tr>\n",
       "      <th>6</th>\n",
       "      <td>RtpStateBitfield</td>\n",
       "      <td>96.923714</td>\n",
       "    </tr>\n",
       "    <tr>\n",
       "      <th>11</th>\n",
       "      <td>AVProductsEnabled</td>\n",
       "      <td>96.837934</td>\n",
       "    </tr>\n",
       "    <tr>\n",
       "      <th>20</th>\n",
       "      <td>OsVer</td>\n",
       "      <td>96.794955</td>\n",
       "    </tr>\n",
       "    <tr>\n",
       "      <th>18</th>\n",
       "      <td>Platform</td>\n",
       "      <td>96.616173</td>\n",
       "    </tr>\n",
       "    <tr>\n",
       "      <th>76</th>\n",
       "      <td>Census_IsPenCapable</td>\n",
       "      <td>95.959523</td>\n",
       "    </tr>\n",
       "  </tbody>\n",
       "</table>\n",
       "</div>"
      ],
      "text/plain": [
       "                              column        skew\n",
       "73           Census_IsWIMBootEnabled  100.000000\n",
       "66        Census_IsFlightingInternal   99.999824\n",
       "5                             IsBeta   99.999295\n",
       "67          Census_IsFlightsDisabled   99.998239\n",
       "27                   AutoSampleOptIn   99.997182\n",
       "69             Census_ThresholdOptIn   99.990488\n",
       "63  Census_IsPortableOperatingSystem   99.953323\n",
       "28                             SMode   99.935885\n",
       "34               Census_DeviceFamily   99.815053\n",
       "32                      UacLuaenable   99.402533\n",
       "74            Census_IsVirtualDevice   98.996002\n",
       "1                        ProductName   98.920966\n",
       "12                            HasTpm   98.760678\n",
       "7                   IsSxsPassiveMode   97.933349\n",
       "31                          Firewall   97.830659\n",
       "6                   RtpStateBitfield   96.923714\n",
       "11                 AVProductsEnabled   96.837934\n",
       "20                             OsVer   96.794955\n",
       "18                          Platform   96.616173\n",
       "76               Census_IsPenCapable   95.959523"
      ]
     },
     "execution_count": 114,
     "metadata": {},
     "output_type": "execute_result"
    }
   ],
   "source": [
    "#train.skew(axis=0, skipna=True).sort_values(ascending = True)\n",
    "\n",
    "sk = pd.DataFrame([{'column': c, 'skew': train[c].value_counts(normalize=True).values[0] * 100} for c in train.columns])\n",
    "sk.sort_values(by='skew', ascending=False).head(20)"
   ]
  },
  {
   "cell_type": "markdown",
   "metadata": {},
   "source": [
    "As we can see some features are have very large skewness. Some of them have almost 99% skew in them, meanining almost all values are of only few categories. This high skew features won't help much for learning algorithm since it won't add much info to learning. Hence, we shall drop these skewed columns (skew > 99%) from dataset. "
   ]
  },
  {
   "cell_type": "code",
   "execution_count": 122,
   "metadata": {},
   "outputs": [],
   "source": [
    "skewed_features = [\"Census_IsWIMBootEnabled\", \"Census_IsFlightingInternal\", \"IsBeta\", \"Census_IsFlightsDisabled\", \"AutoSampleOptIn\", \"Census_ThresholdOptIn\", \"Census_IsPortableOperatingSystem\", \"SMode\", \"Census_DeviceFamily\", \"UacLuaenable\", \"Census_IsVirtualDevice\", \"ProductName\"]\n",
    "train.drop(skewed_features, axis=1, inplace=True)\n",
    "test.drop(skewed_features, axis=1, inplace=True)"
   ]
  },
  {
   "cell_type": "markdown",
   "metadata": {},
   "source": [
    "### EDA Analysis"
   ]
  },
  {
   "cell_type": "markdown",
   "metadata": {},
   "source": [
    "### Univariate Analysis"
   ]
  },
  {
   "cell_type": "code",
   "execution_count": 13,
   "metadata": {},
   "outputs": [
    {
     "data": {
      "image/png": "[encoded data removed]",
      "text/plain": [
       "<Figure size 440.625x360 with 1 Axes>"
      ]
     },
     "metadata": {
      "needs_background": "light"
     },
     "output_type": "display_data"
    }
   ],
   "source": [
    "sns.FacetGrid(train, hue=\"HasDetections\", height = 5).map(sns.distplot, \"DefaultBrowsersIdentifier\").add_legend()\n",
    "plt.show()"
   ]
  },
  {
   "cell_type": "code",
   "execution_count": 21,
   "metadata": {},
   "outputs": [
    {
     "data": {
      "text/plain": [
       "count    29528.000000\n",
       "mean      1662.358169\n",
       "std        985.986807\n",
       "min          1.000000\n",
       "25%        788.000000\n",
       "50%       1632.000000\n",
       "75%       2290.000000\n",
       "max       3209.000000\n",
       "Name: DefaultBrowsersIdentifier, dtype: float64"
      ]
     },
     "execution_count": 21,
     "metadata": {},
     "output_type": "execute_result"
    }
   ],
   "source": [
    "train[\"DefaultBrowsersIdentifier\"].describe()"
   ]
  },
  {
   "cell_type": "code",
   "execution_count": 70,
   "metadata": {},
   "outputs": [
    {
     "data": {
      "text/plain": [
       "1    560694\n",
       "0      7036\n",
       "Name: HasTpm, dtype: int64"
      ]
     },
     "execution_count": 70,
     "metadata": {},
     "output_type": "execute_result"
    }
   ],
   "source": [
    "train[\"HasTpm\"].value_counts()"
   ]
  },
  {
   "cell_type": "code",
   "execution_count": null,
   "metadata": {},
   "outputs": [],
   "source": []
  }
 ],
 "metadata": {
  "kernelspec": {
   "display_name": "Python 3",
   "language": "python",
   "name": "python3"
  },
  "language_info": {
   "codemirror_mode": {
    "name": "ipython",
    "version": 3
   },
   "file_extension": ".py",
   "mimetype": "text/x-python",
   "name": "python",
   "nbconvert_exporter": "python",
   "pygments_lexer": "ipython3",
   "version": "3.8.3"
  }
 },
 "nbformat": 4,
 "nbformat_minor": 4
}
