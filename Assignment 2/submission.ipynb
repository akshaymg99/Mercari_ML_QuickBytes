{
 "cells": [
  {
   "cell_type": "code",
   "execution_count": null,
   "metadata": {},
   "outputs": [],
   "source": [
    "import numpy as np \n",
    "import pandas as pd\n",
    "import matplotlib.pyplot as plt\n",
    "import seaborn as sns\n",
    "from sklearn.preprocessing import LabelEncoder\n",
    "from sklearn.preprocessing import OneHotEncoder\n",
    "from sklearn.impute import SimpleImputer\n",
    "from sklearn.metrics import accuracy_score, precision_score, recall_score, f1_score\n",
    "import lightgbm as lgb\n",
    "from sklearn.model_selection import StratifiedKFold, KFold\n",
    "from sklearn.model_selection import train_test_split"
   ]
  },
  {
   "cell_type": "code",
   "execution_count": null,
   "metadata": {},
   "outputs": [],
   "source": [
    "train = pd.read_csv('/kaggle/input/malware-prediction-am/train.csv')\n",
    "test = pd.read_csv('/kaggle/input/malware-prediction-am/test.csv')"
   ]
  },
  {
   "cell_type": "code",
   "execution_count": null,
   "metadata": {},
   "outputs": [],
   "source": [
    "machine_id = test['MachineIdentifier']"
   ]
  },
  {
   "cell_type": "code",
   "execution_count": null,
   "metadata": {},
   "outputs": [],
   "source": [
    "def handle_missing_values(train,test):\n",
    "    \n",
    "    for feature in [\"DefaultBrowsersIdentifier\",\"Census_IsFlightingInternal\", \"Census_ThresholdOptIn\", \"Census_IsWIMBootEnabled\", \"OrganizationIdentifier\",\n",
    "                \"SMode\", \"Wdft_IsGamer\", \"Wdft_RegionIdentifier\", \"Census_FirmwareManufacturerIdentifier\", \"Census_FirmwareVersionIdentifier\", \n",
    "                \"Census_OEMModelIdentifier\", \"Census_OEMNameIdentifier\", \"Firewall\", \"Census_TotalPhysicalRAM\", \"Census_IsAlwaysOnAlwaysConnectedCapable\",\n",
    "                \"Census_OSInstallLanguageIdentifier\", \"IeVerIdentifier\", \"Census_SystemVolumeTotalCapacity\", \"Census_PrimaryDiskTotalCapacity\",\n",
    "                \"Census_InternalPrimaryDiagonalDisplaySizeInInches\", \"Census_InternalPrimaryDisplayResolutionHorizontal\", \n",
    "                \"Census_InternalPrimaryDisplayResolutionVertical\", \"AVProductsEnabled\", \"AVProductsInstalled\", \"AVProductStatesIdentifier\", \"IsProtected\", \n",
    "                \"Census_ProcessorModelIdentifier\", \"Census_ProcessorCoreCount\", \"Census_ProcessorManufacturerIdentifier\", \"RtpStateBitfield\", \n",
    "                \"Census_IsVirtualDevice\", \"UacLuaenable\", \"GeoNameIdentifier\",'SmartScreen', 'Census_PrimaryDiskTypeName', 'Census_ChassisTypeName', \n",
    "                'Census_PowerPlatformRoleName', 'OsBuildLab']:\n",
    "        train[feature].fillna(train[feature].mode()[0], inplace=True)\n",
    "        test[feature].fillna(test[feature].mode()[0], inplace=True)\n",
    "                \n",
    "    return train,test\n",
    "\n",
    "def additional_features(train,test):\n",
    "    \n",
    "    # Disk Space Remaining\n",
    "    train['disk_remain'] = train['Census_PrimaryDiskTotalCapacity'] - train['Census_SystemVolumeTotalCapacity']\n",
    "    test['disk_remain'] = test['Census_PrimaryDiskTotalCapacity'] - test['Census_SystemVolumeTotalCapacity']\n",
    "    train['disk_remain'] = train['disk_remain'].astype('float32')\n",
    "    test['disk_remain'] = test['disk_remain'].astype('float32')\n",
    "\n",
    "    # Ram-to-CPU ratio\n",
    "    train['ram_cpu_ratio'] = train['Census_TotalPhysicalRAM'] / train['Census_ProcessorCoreCount']\n",
    "    test['ram_cpu_ratio'] = test['Census_TotalPhysicalRAM'] / test['Census_ProcessorCoreCount']\n",
    "\n",
    "    # Pixel Per Inch PPI sqrt(horizonal**2 + vertical**2) / diagonal\n",
    "    train['ppi'] = np.sqrt(train['Census_InternalPrimaryDisplayResolutionHorizontal']**2 + train['Census_InternalPrimaryDisplayResolutionVertical']**2) / train['Census_InternalPrimaryDiagonalDisplaySizeInInches']\n",
    "    test['ppi'] = np.sqrt(test['Census_InternalPrimaryDisplayResolutionHorizontal']**2 + test['Census_InternalPrimaryDisplayResolutionVertical']**2) / test['Census_InternalPrimaryDiagonalDisplaySizeInInches']\n",
    "\n",
    "    # PPI squared\n",
    "    train['ppi2'] = train.ppi ** 2\n",
    "    test['ppi2'] = test.ppi ** 2\n",
    "\n",
    "    # Screen aspect ratio = Horizonal / Vertical\n",
    "    train['aspect_ratio'] = train['Census_InternalPrimaryDisplayResolutionHorizontal'] / train['Census_InternalPrimaryDisplayResolutionVertical']\n",
    "    test['aspect_ratio'] = test['Census_InternalPrimaryDisplayResolutionHorizontal'] / test['Census_InternalPrimaryDisplayResolutionVertical']\n",
    "\n",
    "    # Pixel count = Horizonal * Vertical\n",
    "    train['pixel_count'] = train['Census_InternalPrimaryDisplayResolutionHorizontal'] * train['Census_InternalPrimaryDisplayResolutionVertical']\n",
    "    test['pixel_count'] = test['Census_InternalPrimaryDisplayResolutionHorizontal'] * test['Census_InternalPrimaryDisplayResolutionVertical']\n",
    "    \n",
    "    return train,test\n",
    "\n",
    "def frequency_encoding(variable):\n",
    "    t = pd.concat([train[variable], test[variable]]).value_counts().reset_index()\n",
    "    t = t.reset_index()\n",
    "    t.loc[t[variable] == 1, 'level_0'] = np.nan\n",
    "    t.set_index('index', inplace=True)\n",
    "    max_label = t['level_0'].max() + 1\n",
    "    t.fillna(max_label, inplace=True)\n",
    "    return t.to_dict()['level_0']"
   ]
  },
  {
   "cell_type": "code",
   "execution_count": null,
   "metadata": {},
   "outputs": [],
   "source": [
    "train,test = handle_missing_values(train,test)"
   ]
  },
  {
   "cell_type": "code",
   "execution_count": null,
   "metadata": {},
   "outputs": [],
   "source": [
    "train,test = additional_features(train,test)"
   ]
  },
  {
   "cell_type": "code",
   "execution_count": null,
   "metadata": {},
   "outputs": [],
   "source": [
    "train = train.drop([\n",
    "            'MachineIdentifier',\n",
    "            'IsBeta', \n",
    "            'CityIdentifier', \n",
    "            'AutoSampleOptIn', \n",
    "            'PuaMode', \n",
    "            'Census_InternalBatteryType', \n",
    "            'Census_InternalBatteryNumberOfCharges', \n",
    "            'Census_OSArchitecture',\n",
    "            'Census_OSSkuName',\n",
    "            'Census_IsFlightsDisabled'], axis=1)\n",
    "test = test.drop([\n",
    "            'IsBeta', \n",
    "            'CityIdentifier', \n",
    "            'AutoSampleOptIn', \n",
    "            'PuaMode', \n",
    "            'Census_InternalBatteryType', \n",
    "            'Census_InternalBatteryNumberOfCharges', \n",
    "            'Census_OSArchitecture',\n",
    "            'Census_OSSkuName',\n",
    "            'Census_IsFlightsDisabled'], axis=1)"
   ]
  },
  {
   "cell_type": "code",
   "execution_count": null,
   "metadata": {},
   "outputs": [],
   "source": [
    "conversion_dict = {\n",
    "    'off': 'Off', '&#x02;': '2', '&#x01;': '1', 'on': 'On', 'requireadmin': 'RequireAdmin', 'OFF': 'Off', \n",
    "    'Promt': 'Prompt', 'requireAdmin': 'RequireAdmin', 'prompt': 'Prompt', 'warn': 'Warn', \n",
    "    '00000000': '0', '&#x03;': '3', np.nan: 'NoExist'\n",
    "}\n",
    "train.replace({'SmartScreen': conversion_dict}, inplace=True)\n",
    "test.replace({'SmartScreen': conversion_dict}, inplace=True)"
   ]
  },
  {
   "cell_type": "code",
   "execution_count": null,
   "metadata": {},
   "outputs": [],
   "source": [
    "conversion_dict = {\n",
    "    'HDD': 'HDD', 'SSD': 'SSD', 'UNKNOWN': 'UNKNOWN', 'Unspecified': 'UNKNOWN'\n",
    "}\n",
    "train.replace({'Census_PrimaryDiskTypeName': conversion_dict}, inplace=True)\n",
    "test.replace({'Census_PrimaryDiskTypeName': conversion_dict}, inplace=True)"
   ]
  },
  {
   "cell_type": "code",
   "execution_count": null,
   "metadata": {},
   "outputs": [],
   "source": [
    "conversion_dict = {\n",
    "    'AppliancePC' : 'AppliancePC', 'Desktop' : 'Desktop', 'EnterpriseServer' : 'EnterpriseServer', \n",
    "    'Mobile' : 'Mobile', 'SOHOServer' : 'SOHOServer','Slate' : 'Slate', 'Workstation' : 'Workstation', \n",
    "    'PerformanceServer' : 'PerformanceServer', 'UNKNOWN': 'UNKNOWN', 'Unspecified': 'UNKNOWN'\n",
    "}\n",
    "train.replace({'Census_PowerPlatformRoleName': conversion_dict}, inplace=True)\n",
    "test.replace({'Census_PowerPlatformRoleName': conversion_dict}, inplace=True)"
   ]
  },
  {
   "cell_type": "code",
   "execution_count": null,
   "metadata": {},
   "outputs": [],
   "source": [
    "conversion_dict = {\n",
    "    'AllInOne' : 'AllInOne', 'Convertible' : 'Convertible', 'Desktop' :  'Desktop', 'Detachable' : 'Detachable', \n",
    "    'LargeServer' : 'Server','LargeTablet' : 'Tablet', 'MediumServer' : 'Server', 'Notebook' : 'Notebook', \n",
    "    'PCOther' : 'PCOther', 'SmallServer' : 'Server','SmallTablet' : 'Tablet'\n",
    "}\n",
    "train.replace({'Census_MDC2FormFactor': conversion_dict}, inplace=True)\n",
    "test.replace({'Census_MDC2FormFactor': conversion_dict}, inplace=True)"
   ]
  },
  {
   "cell_type": "code",
   "execution_count": null,
   "metadata": {},
   "outputs": [],
   "source": [
    "skewed_features = [\"Census_IsWIMBootEnabled\", \"Census_IsFlightingInternal\", \"Census_ThresholdOptIn\", \n",
    "                   \"Census_IsPortableOperatingSystem\", \"SMode\", \"Census_DeviceFamily\", \"UacLuaenable\", \n",
    "                   \"Census_IsVirtualDevice\", \"ProductName\"]\n",
    "train.drop(skewed_features, axis=1, inplace=True)\n",
    "test.drop(skewed_features, axis=1, inplace=True)"
   ]
  },
  {
   "cell_type": "code",
   "execution_count": null,
   "metadata": {},
   "outputs": [],
   "source": [
    "train.drop('Census_ProcessorManufacturerIdentifier', axis=1, inplace=True)\n",
    "test.drop('Census_ProcessorManufacturerIdentifier', axis=1, inplace=True)\n",
    "train.drop('Census_PrimaryDiskTotalCapacity', axis=1, inplace=True)\n",
    "test.drop('Census_PrimaryDiskTotalCapacity', axis=1, inplace=True)"
   ]
  },
  {
   "cell_type": "code",
   "execution_count": null,
   "metadata": {},
   "outputs": [],
   "source": [
    "train.drop('Census_InternalPrimaryDisplayResolutionVertical', axis=1, inplace=True)\n",
    "test.drop('Census_InternalPrimaryDisplayResolutionVertical', axis=1, inplace=True)\n",
    "train.drop('Census_OSInstallLanguageIdentifier', axis=1, inplace=True)\n",
    "test.drop('Census_OSInstallLanguageIdentifier', axis=1, inplace=True)"
   ]
  },
  {
   "cell_type": "code",
   "execution_count": null,
   "metadata": {},
   "outputs": [],
   "source": [
    "train.drop('Census_ChassisTypeName',  axis=1, inplace=True)\n",
    "test.drop('Census_ChassisTypeName',  axis=1, inplace=True)\n",
    "## OS_Ver are repeated\n",
    "train.drop('Census_OSVersion',  axis=1, inplace=True)\n",
    "test.drop('Census_OSVersion',  axis=1, inplace=True)"
   ]
  },
  {
   "cell_type": "code",
   "execution_count": null,
   "metadata": {},
   "outputs": [],
   "source": [
    "train.drop('IsSxsPassiveMode', axis=1, inplace=True)\n",
    "test.drop('IsSxsPassiveMode', axis=1, inplace=True)\n",
    "#train.drop('IsBeta', axis=1, inplace=True)\n",
    "#test.drop('IsBeta', axis=1, inplace=True)\n",
    "\n",
    "#train.drop('PuaMode',inplace=True, axis=1)\n",
    "train.drop('Census_ProcessorClass',inplace=True, axis=1)\n",
    "#test.drop('PuaMode', inplace=True, axis=1)\n",
    "test.drop('Census_ProcessorClass', inplace=True, axis=1)"
   ]
  },
  {
   "cell_type": "code",
   "execution_count": null,
   "metadata": {},
   "outputs": [],
   "source": [
    "test.drop('MachineIdentifier', axis=1, inplace=True)"
   ]
  },
  {
   "cell_type": "code",
   "execution_count": null,
   "metadata": {},
   "outputs": [],
   "source": [
    "frequency_encoded = ['OsPlatformSubRelease', 'OsBuildLab', 'Processor', 'SkuEdition', 'SmartScreen', 'Platform']\n",
    "\n",
    "for variable in frequency_encoded:\n",
    "    freq_enc_dict = frequency_encoding(variable)\n",
    "    train[variable] = train[variable].map(lambda x: freq_enc_dict.get(x, np.nan))\n",
    "    test[variable] = test[variable].map(lambda x: freq_enc_dict.get(x, np.nan))"
   ]
  },
  {
   "cell_type": "code",
   "execution_count": null,
   "metadata": {},
   "outputs": [],
   "source": [
    "feature_encoded = ['Census_MDC2FormFactor', 'Census_PrimaryDiskTypeName', 'Census_PowerPlatformRoleName',  \n",
    "                   'Census_OSBranch', 'Census_OSEdition', 'Census_OSInstallTypeName', 'Census_OSWUAutoUpdateOptionsName', \n",
    "                   'Census_GenuineStateName', 'Census_ActivationChannel', 'Census_FlightRing', 'EngineVersion', \n",
    "                   'AppVersion', 'AvSigVersion', 'OsVer']\n",
    "\n",
    "for feature in feature_encoded:\n",
    "    train[feature] = LabelEncoder().fit_transform(train[feature].astype(str))\n",
    "    test[feature] = LabelEncoder().fit_transform(test[feature].astype(str))"
   ]
  },
  {
   "cell_type": "code",
   "execution_count": null,
   "metadata": {},
   "outputs": [],
   "source": [
    "target= train['HasDetections']\n",
    "train.drop('HasDetections', axis=1, inplace=True)"
   ]
  },
  {
   "cell_type": "code",
   "execution_count": null,
   "metadata": {},
   "outputs": [],
   "source": [
    "X_train, X_val, Y_train, Y_val = train_test_split(train, target, test_size=0.15,random_state=1)"
   ]
  },
  {
   "cell_type": "code",
   "execution_count": null,
   "metadata": {},
   "outputs": [],
   "source": [
    "param = {'num_leaves': 60,\n",
    "         'min_data_in_leaf': 100, \n",
    "         'objective':'binary',\n",
    "         'max_depth': -1,\n",
    "         'learning_rate': 0.1,\n",
    "         \"boosting\": \"gbdt\",\n",
    "         \"feature_fraction\": 0.8,\n",
    "         \"bagging_freq\": 1,\n",
    "         \"bagging_fraction\": 0.8 ,\n",
    "         \"bagging_seed\": 11,\n",
    "         \"metric\": 'auc',\n",
    "         \"lambda_l1\": 0.1,\n",
    "         \"random_state\": 133,\n",
    "         \"verbosity\": -1}"
   ]
  },
  {
   "cell_type": "code",
   "execution_count": null,
   "metadata": {},
   "outputs": [],
   "source": [
    "lgb_train = lgb.Dataset(X_train, label=Y_train)\n",
    "lgb_val = lgb.Dataset(X_val, label=Y_val)"
   ]
  },
  {
   "cell_type": "code",
   "execution_count": null,
   "metadata": {},
   "outputs": [],
   "source": [
    "model = lgb.train(param, lgb_train, 10000, valid_sets=[lgb_train, lgb_val], early_stopping_rounds=200, verbose_eval=100)"
   ]
  },
  {
   "cell_type": "code",
   "execution_count": null,
   "metadata": {},
   "outputs": [],
   "source": [
    "result = model.predict(test, num_iteration=model.best_iteration)"
   ]
  },
  {
   "cell_type": "code",
   "execution_count": null,
   "metadata": {},
   "outputs": [],
   "source": [
    "df = pd.DataFrame(result)\n",
    "res = pd.concat([machine_id, df], axis = 1)\n",
    "res.set_index('MachineIdentifier',inplace=True)\n",
    "res.columns = {'HasDetections'}\n",
    "res.to_csv('submission_kaggle.csv')"
   ]
  }
 ],
 "metadata": {
  "kernelspec": {
   "display_name": "Python 3",
   "language": "python",
   "name": "python3"
  }
 },
 "nbformat": 4,
 "nbformat_minor": 4
}
